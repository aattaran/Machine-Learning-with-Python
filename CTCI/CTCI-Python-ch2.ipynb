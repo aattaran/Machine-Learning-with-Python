{
 "cells": [
  {
   "cell_type": "code",
   "execution_count": null,
   "metadata": {},
   "outputs": [],
   "source": [
    "'''#2.1 Write code to remove duplicates from an unsorted linked list.\n",
    "FOLLOW UP\n",
    "How would you solve this problem if a temporary buffer is not allowed?'''\n",
    "from llist import sllist\n",
    "\n",
    "def remove_dubs(l):\n",
    "    \n",
    "\n",
    "    if l.first is None:\n",
    "        raise ValueError ('list is empty')\n",
    "    \n",
    "    current  = l.first\n",
    "    seen=set([current.value])\n",
    "    while current.next:\n",
    "        if current.next.value in seen:\n",
    "            current.next = current.next.next\n",
    "        else:\n",
    "            seen.add(current.next.value)\n",
    "            current = current.next\n",
    "    return seen"
   ]
  },
  {
   "cell_type": "code",
   "execution_count": null,
   "metadata": {},
   "outputs": [],
   "source": []
  },
  {
   "cell_type": "code",
   "execution_count": null,
   "metadata": {},
   "outputs": [],
   "source": [
    "l=sllist([1,2,3,3])\n",
    "node = l.first\n",
    "node.next.next()"
   ]
  },
  {
   "cell_type": "code",
   "execution_count": null,
   "metadata": {},
   "outputs": [],
   "source": [
    "remove_dubs(l)"
   ]
  },
  {
   "cell_type": "code",
   "execution_count": null,
   "metadata": {},
   "outputs": [],
   "source": []
  },
  {
   "cell_type": "code",
   "execution_count": null,
   "metadata": {},
   "outputs": [],
   "source": [
    "#2.2 Implement an algorithm to find the nth to last element of a singly linked list."
   ]
  },
  {
   "cell_type": "code",
   "execution_count": null,
   "metadata": {},
   "outputs": [],
   "source": [
    "def kthtolast(l,k):\n",
    "    \n",
    "    if l.first is None:\n",
    "        return \n",
    "    \n",
    "    runner = current = l.first\n",
    "    for i in range (k):\n",
    "        if runner is None:\n",
    "            return None\n",
    "        runner = runner.next\n",
    "        \n",
    "    while runner:\n",
    "        current=current.next\n",
    "        runner = runner.next\n",
    "    \n",
    "    return current\n",
    "    "
   ]
  },
  {
   "cell_type": "code",
   "execution_count": null,
   "metadata": {},
   "outputs": [],
   "source": [
    "l=sllist([1,2,3,3])\n",
    "kthtolast(l,3)"
   ]
  },
  {
   "cell_type": "code",
   "execution_count": null,
   "metadata": {},
   "outputs": [],
   "source": [
    "#2.3 Implement an algorithm to delete a node in the middle of a single linked list, given only access to that node."
   ]
  },
  {
   "cell_type": "code",
   "execution_count": null,
   "metadata": {},
   "outputs": [],
   "source": [
    "def delete_middle_node(node):\n",
    "    node.value=node.next.value\n",
    "    node.next=node.next.next\n",
    "    \n",
    "    "
   ]
  },
  {
   "cell_type": "code",
   "execution_count": null,
   "metadata": {},
   "outputs": [],
   "source": [
    "l=llist([1,2,3,3])\n",
    "delete_middle_node(l)"
   ]
  },
  {
   "cell_type": "code",
   "execution_count": null,
   "metadata": {},
   "outputs": [],
   "source": [
    "#2.4 You have two numbers represented by a linked list, where each node contains a single digit. The digits are stored in reverse order, such that the 1’s digit is at the head of the list. Write a function that adds the two numbers and returns the sum as a linked list."
   ]
  },
  {
   "cell_type": "code",
   "execution_count": null,
   "metadata": {},
   "outputs": [],
   "source": []
  },
  {
   "cell_type": "code",
   "execution_count": null,
   "metadata": {},
   "outputs": [],
   "source": [
    "import itertools\n",
    "def maxtime(arr):\n",
    "    res=[]\n",
    "    arr=sorted(arr)\n",
    "    for i in itertools.permutations(arr):\n",
    "        if i[0]<=2:\n",
    "            if i[2]<6:        \n",
    "                res.append(i)\n",
    "        #else:\n",
    "            #raise ValueError('cannt do it')\n",
    "\n",
    "    ti = res[-1]\n",
    "    t = str(ti[0])+''+str(ti[1])+':'+str(ti[2])+''+str(ti[3])\n",
    "                \n",
    "    return t,res"
   ]
  },
  {
   "cell_type": "code",
   "execution_count": null,
   "metadata": {},
   "outputs": [],
   "source": [
    "maxtime([4,7,5,1])"
   ]
  },
  {
   "cell_type": "code",
   "execution_count": null,
   "metadata": {},
   "outputs": [],
   "source": []
  },
  {
   "cell_type": "code",
   "execution_count": null,
   "metadata": {},
   "outputs": [],
   "source": []
  },
  {
   "cell_type": "code",
   "execution_count": null,
   "metadata": {},
   "outputs": [],
   "source": [
    "a=[[1,1,1,2],\n",
    "[1,9,1,2],\n",
    "[1,8,9,2],\n",
    "[1,2,3,4]]"
   ]
  },
  {
   "cell_type": "code",
   "execution_count": null,
   "metadata": {},
   "outputs": [],
   "source": [
    "a"
   ]
  },
  {
   "cell_type": "code",
   "execution_count": null,
   "metadata": {},
   "outputs": [],
   "source": [
    "def cavityMap(arr):\n",
    "    \n",
    "    n=int(arr[0])\n",
    "    for i in range(1,n-1):\n",
    "        for j in range(1,n-1):\n",
    "            if arr[i-1][j] != 'X' and int(arr[i-1][j]) < int(arr[i][j]) and \\\n",
    "                arr[i+1][j] != 'X' and int(arr[i+1][j]) < int(arr[i][j]) and \\\n",
    "                arr[i][j-1] != 'X' and int(arr[i][j-1]) < int(arr[i][j]) and \\\n",
    "                arr[i][j+1] != 'X' and int(arr[i][j+1]) < int(arr[i][j]):\n",
    "                    arr[i][j] = 'X'\n",
    "    return arr\n",
    "\n"
   ]
  },
  {
   "cell_type": "code",
   "execution_count": null,
   "metadata": {},
   "outputs": [],
   "source": [
    "n = int(input())\n",
    "arr=[]\n",
    "\n",
    "for k in range(n):\n",
    "    line = list(input())\n",
    "    arr.append(line)\n",
    "    \n",
    "#cavityMap(arr)\n",
    "\n",
    "print (''.join(l))\n",
    "arr"
   ]
  },
  {
   "cell_type": "code",
   "execution_count": null,
   "metadata": {},
   "outputs": [],
   "source": []
  },
  {
   "cell_type": "code",
   "execution_count": null,
   "metadata": {},
   "outputs": [],
   "source": [
    "cavityMap(a)"
   ]
  },
  {
   "cell_type": "code",
   "execution_count": null,
   "metadata": {},
   "outputs": [],
   "source": [
    "# Complete the function below.\n",
    "\n",
    "def cavityMap(arr):\n",
    "    \n",
    "    for i in arr:\n",
    "        i=int(i)\n",
    "    n=len(arr[0])\n",
    "    \n",
    "\n",
    "    for i in range(1,n-1):\n",
    "        for j in range(1,n-1):\n",
    "            cur = int(arr[i][j])\n",
    "            left = int(arr[i][j-1])\n",
    "            right = int(arr[i][j+1])\n",
    "            top = int(arr[i-1][j])\n",
    "            bottom = int(arr[i+1][j])\n",
    "\n",
    "            if(cur>left and cur>right and cur> top and cur>bottom):\n",
    "                arr[i][j] = int(arr[i][j])\n",
    "                arr[i][j] = 'X'\n",
    "\n",
    "    return (arr)\n",
    "    \n",
    "\n"
   ]
  },
  {
   "cell_type": "code",
   "execution_count": null,
   "metadata": {},
   "outputs": [],
   "source": []
  },
  {
   "cell_type": "code",
   "execution_count": null,
   "metadata": {},
   "outputs": [],
   "source": []
  },
  {
   "cell_type": "code",
   "execution_count": null,
   "metadata": {},
   "outputs": [],
   "source": []
  },
  {
   "cell_type": "code",
   "execution_count": null,
   "metadata": {},
   "outputs": [],
   "source": []
  },
  {
   "cell_type": "code",
   "execution_count": null,
   "metadata": {},
   "outputs": [],
   "source": []
  }
 ],
 "metadata": {
  "kernelspec": {
   "display_name": "Python [conda root]",
   "language": "python",
   "name": "conda-root-py"
  },
  "language_info": {
   "codemirror_mode": {
    "name": "ipython",
    "version": 3
   },
   "file_extension": ".py",
   "mimetype": "text/x-python",
   "name": "python",
   "nbconvert_exporter": "python",
   "pygments_lexer": "ipython3",
   "version": "3.6.3"
  }
 },
 "nbformat": 4,
 "nbformat_minor": 2
}
